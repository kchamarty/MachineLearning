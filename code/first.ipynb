{
  "nbformat": 4,
  "nbformat_minor": 0,
  "metadata": {
    "colab": {
      "name": "first.ipynb",
      "provenance": [],
      "include_colab_link": true
    },
    "kernelspec": {
      "name": "python3",
      "display_name": "Python 3"
    }
  },
  "cells": [
    {
      "cell_type": "markdown",
      "metadata": {
        "id": "view-in-github",
        "colab_type": "text"
      },
      "source": [
        "<a href=\"https://colab.research.google.com/github/kchamarty/MachineLearning/blob/master/first.ipynb\" target=\"_parent\"><img src=\"https://colab.research.google.com/assets/colab-badge.svg\" alt=\"Open In Colab\"/></a>"
      ]
    },
    {
      "cell_type": "markdown",
      "metadata": {
        "id": "P6MJPce7bp8G",
        "colab_type": "text"
      },
      "source": [
        "Import data set and convert to dataframe"
      ]
    },
    {
      "cell_type": "code",
      "metadata": {
        "id": "yKajUcJTb0nN",
        "colab_type": "code",
        "colab": {}
      },
      "source": [
        "from sklearn.datasets import load_digits\n",
        "digits =load_digits()\n",
        "dg_X=digits.data\n",
        "dg_y=digits.target"
      ],
      "execution_count": 0,
      "outputs": []
    },
    {
      "cell_type": "markdown",
      "metadata": {
        "id": "9wqTpMsMb_h2",
        "colab_type": "text"
      },
      "source": [
        "## Split the data into training and test"
      ]
    },
    {
      "cell_type": "code",
      "metadata": {
        "id": "TfpBvixVcLXU",
        "colab_type": "code",
        "colab": {
          "base_uri": "https://localhost:8080/",
          "height": 52
        },
        "outputId": "9b22997b-782a-4faf-a60f-49a5b57238be"
      },
      "source": [
        "from sklearn.model_selection import train_test_split\n",
        "X_train,X_test,y_train,y_test =train_test_split(dg_X,dg_y,random_state=0)\n",
        "print('Rows = ',len(X_train))\n",
        "print('columns = ',len(X_train[0]))"
      ],
      "execution_count": 6,
      "outputs": [
        {
          "output_type": "stream",
          "text": [
            "Rows =  1347\n",
            "columns =  64\n"
          ],
          "name": "stdout"
        }
      ]
    },
    {
      "cell_type": "code",
      "metadata": {
        "id": "t9nrlEKsf6LD",
        "colab_type": "code",
        "colab": {}
      },
      "source": [
        ""
      ],
      "execution_count": 0,
      "outputs": []
    },
    {
      "cell_type": "code",
      "metadata": {
        "colab_type": "code",
        "id": "6km1lWMF2kAm",
        "colab": {
          "base_uri": "https://localhost:8080/",
          "height": 212
        },
        "outputId": "27ce1110-c54a-455e-da52-06e3cd32e45f"
      },
      "source": [
        "# To determine which version you're using:\n",
        "!pip show tensorflow\n",
        "\n",
        "\n"
      ],
      "execution_count": 15,
      "outputs": [
        {
          "output_type": "stream",
          "text": [
            "Name: tensorflow\n",
            "Version: 2.0.0\n",
            "Summary: TensorFlow is an open source machine learning framework for everyone.\n",
            "Home-page: https://www.tensorflow.org/\n",
            "Author: Google Inc.\n",
            "Author-email: packages@tensorflow.org\n",
            "License: Apache 2.0\n",
            "Location: /usr/local/lib/python3.6/dist-packages\n",
            "Requires: protobuf, tensorboard, termcolor, six, astor, grpcio, absl-py, wrapt, tensorflow-estimator, keras-preprocessing, numpy, wheel, gast, opt-einsum, google-pasta, keras-applications\n",
            "Required-by: stable-baselines, mesh-tensorflow, magenta, fancyimpute\n"
          ],
          "name": "stdout"
        }
      ]
    },
    {
      "cell_type": "markdown",
      "metadata": {
        "id": "k1GS3JKKcz6v",
        "colab_type": "text"
      },
      "source": [
        "## importing model and training it"
      ]
    },
    {
      "cell_type": "code",
      "metadata": {
        "id": "uSVJc1Fvc-xC",
        "colab_type": "code",
        "colab": {}
      },
      "source": [
        "from sklearn.neighbors import KNeighborsClassifier\n",
        "model = KNeighborsClassifier(n_neighbors=5)\n",
        "\n",
        "model.fit(X_train,y_train)\n",
        "y_pred = model.predict(X_test)"
      ],
      "execution_count": 0,
      "outputs": []
    },
    {
      "cell_type": "markdown",
      "metadata": {
        "id": "q7pofJmad9TZ",
        "colab_type": "text"
      },
      "source": [
        "## Results :"
      ]
    },
    {
      "cell_type": "code",
      "metadata": {
        "id": "Ak07XvTFdIwv",
        "colab_type": "code",
        "outputId": "7ae1abb2-5339-496d-b676-375cb91ca0d2",
        "colab": {
          "base_uri": "https://localhost:8080/",
          "height": 262
        }
      },
      "source": [
        "from sklearn.metrics import confusion_matrix,accuracy_score\n",
        "print('Confusion Matrix : \\n\\n',confusion_matrix(y_pred,y_test))\n",
        "print('\\nAccuracy Score : ',accuracy_score(y_pred,y_test))"
      ],
      "execution_count": 0,
      "outputs": [
        {
          "output_type": "stream",
          "text": [
            "Confusion Matrix : \n",
            "\n",
            " [[37  0  0  0  0  0  0  0  0  0]\n",
            " [ 0 42  0  0  0  0  0  0  1  0]\n",
            " [ 0  0 43  0  0  0  0  0  0  0]\n",
            " [ 0  0  1 45  0  0  0  0  1  0]\n",
            " [ 0  0  0  0 37  0  0  0  0  0]\n",
            " [ 0  1  0  0  0 47  0  0  0  1]\n",
            " [ 0  0  0  0  0  0 52  0  1  0]\n",
            " [ 0  0  0  0  1  0  0 48  1  0]\n",
            " [ 0  0  0  0  0  0  0  0 44  0]\n",
            " [ 0  0  0  0  0  1  0  0  0 46]]\n",
            "\n",
            "Accuracy Score :  0.98\n"
          ],
          "name": "stdout"
        }
      ]
    },
    {
      "cell_type": "markdown",
      "metadata": {
        "id": "K2AZC0fWd3FL",
        "colab_type": "text"
      },
      "source": [
        ""
      ]
    }
  ]
}
